{
 "cells": [
  {
   "cell_type": "code",
   "execution_count": 1,
   "metadata": {},
   "outputs": [],
   "source": [
    "import torch\n",
    "import math\n",
    "import numpy as np\n",
    "import matplotlib.pyplot as plt\n",
    "%matplotlib inline"
   ]
  },
  {
   "cell_type": "code",
   "execution_count": 2,
   "metadata": {},
   "outputs": [],
   "source": [
    "class Value:\n",
    "    def __init__(self, data, _children=(), _op='', label=''):\n",
    "        self.data = data\n",
    "        self.grad = 0.0\n",
    "        self._backward = lambda: None\n",
    "        self._prev = set(_children)\n",
    "        self._op = _op\n",
    "        self.label = label\n",
    "           \n",
    "    def __repr__(self):\n",
    "        return f\"Value(data={self.data})\"\n",
    "\n",
    "    def __add__(self, other):\n",
    "        other = other if isinstance(other, Value) else Value(other)\n",
    "        \n",
    "        out = Value(self.data + other.data, (self, other), \"+\")\n",
    "        \n",
    "        def _backward():\n",
    "            self.grad += 1.0 * out.grad\n",
    "            other.grad += 1.0 * out.grad\n",
    "            \n",
    "        out._backward = _backward\n",
    "        return out\n",
    "    \n",
    "    \n",
    "    def __radd__(self, other): # other + self\n",
    "        return self + other\n",
    "    \n",
    "    def __mul__(self, other):\n",
    "        other = other if isinstance(other, Value) else Value(other)\n",
    "        \n",
    "        out = Value(self.data * other.data, (self, other), \"*\")\n",
    "        \n",
    "        def _backward():\n",
    "            self.grad += other.data * out.grad\n",
    "            other.grad += self.data * out.grad\n",
    "            \n",
    "        out._backward = _backward\n",
    "    \n",
    "        return out\n",
    "    \n",
    "    def __rmul__(self, other): #other*self\n",
    "        return self * other\n",
    "    \n",
    "    def __pow__(self, other):\n",
    "        assert isinstance(other, (int, float)), \"only supporting int/float for now\"\n",
    "        out = Value(self.data**other, (self,), f'**{other}')\n",
    "        \n",
    "        def _backward():\n",
    "            self.grad += (other * self.data ** (other-1)) * out.grad\n",
    "        out._backward = _backward\n",
    "        \n",
    "        return out\n",
    "    \n",
    "   \n",
    "        \n",
    "    def __truediv__(self, other): # self / other\n",
    "        return self * other**(-1)\n",
    "    \n",
    "    def __neg__(self): #-self\n",
    "        return self * -1\n",
    "    \n",
    "    def __sub__(self, other): #self - other\n",
    "        return self + -other\n",
    "    \n",
    "    def __rsub__(self, other):# other -self\n",
    "        return other + (-self)\n",
    "        \n",
    "    \n",
    "    def tanh(self):\n",
    "        x = self.data\n",
    "        t = (math.exp(2*x) - 1)/(math.exp(2*x) + 1)\n",
    "        out = Value(t, (self, ), \"tanh\")\n",
    "        def _backward():\n",
    "            self.grad += (1 - t**2) * out.grad\n",
    "        \n",
    "        out._backward = _backward\n",
    "        \n",
    "        return out\n",
    "    \n",
    "    def exp(self):\n",
    "        x = self.data\n",
    "        out = Value(math.exp(x), (self, ), 'exp')\n",
    "        \n",
    "        def _backward():\n",
    "            self.grad += out.data * out.grad        \n",
    "        out._backward = _backward   \n",
    "        \n",
    "        return out\n",
    "        \n",
    "\n",
    "    def backward(self):\n",
    "        \n",
    "        topo = []\n",
    "        visited = set()\n",
    "        def build_topo(v):\n",
    "            if v not in visited:\n",
    "                visited.add(v)\n",
    "                for child in v._prev:\n",
    "                    build_topo(child)\n",
    "                topo.append(v)\n",
    "        build_topo(self)\n",
    "        \n",
    "        self.grad = 1.0\n",
    "        for node in reversed(topo):\n",
    "            node._backward()\n",
    "\n"
   ]
  },
  {
   "cell_type": "code",
   "execution_count": 3,
   "metadata": {},
   "outputs": [],
   "source": [
    "from graphviz import Digraph\n",
    "def trace(root):\n",
    "    nodes, edges = set(), set()\n",
    "    def build(v):\n",
    "        if v not in nodes:\n",
    "            nodes.add(v)\n",
    "            for child in v._prev:\n",
    "                edges.add((child, v))\n",
    "                build(child)\n",
    "    build(root)\n",
    "    return nodes, edges\n",
    "\n",
    "def draw_dot(root, format='svg', rankdir='LR'):\n",
    "    \"\"\"\n",
    "    format: png | svg | ...\n",
    "    rankdir: TB (top to bottom graph) | LR (left to right)\n",
    "    \"\"\"\n",
    "    assert rankdir in ['LR', 'TB']\n",
    "    nodes, edges = trace(root)\n",
    "    dot = Digraph(format=format, graph_attr={'rankdir': rankdir}) #, node_attr={'rankdir': 'TB'})\n",
    "    \n",
    "    for n in nodes:\n",
    "        dot.node(name=str(id(n)), label = \"{ %s |data %.4f | grad %.4f }\" % (n.label, n.data, n.grad), shape='record')\n",
    "        if n._op:\n",
    "            dot.node(name=str(id(n)) + n._op, label=n._op)\n",
    "            dot.edge(str(id(n)) + n._op, str(id(n)))\n",
    "    \n",
    "    for n1, n2 in edges:\n",
    "        dot.edge(str(id(n1)), str(id(n2)) + n2._op)\n",
    "    \n",
    "    return dot"
   ]
  },
  {
   "cell_type": "code",
   "execution_count": 5,
   "metadata": {},
   "outputs": [],
   "source": [
    "# Manual backprop for a neuron\n",
    "#inputs\n",
    "x1 = Value(2.0, label=\"x1\")\n",
    "x2 = Value(0.0, label=\"x2\")\n",
    "#weights\n",
    "w1 = Value(-3.0, label= \"w1\")\n",
    "w2 = Value(1.0, label= \"w2\")\n",
    "#bias\n",
    "b = Value(6.8813735870195432, label =\"b\")\n",
    "# x1*w1 + x2*w2 + b\n",
    "x1w1 = x1*w1; x1w1.label = 'x1*w1'\n",
    "x2w2 = x2*w2; x2w2.label = 'x2*w2'\n",
    "x1w1x2w2 = x1w1 + x2w2; x1w1x2w2.label = 'x1*w1 + x2*w2'\n",
    "n= x1w1x2w2 +b; n.label = 'n'\n",
    "#output\n",
    "o = n.tanh(); o.label = 'o'"
   ]
  },
  {
   "cell_type": "code",
   "execution_count": 8,
   "metadata": {},
   "outputs": [
    {
     "data": {
      "image/svg+xml": "<?xml version=\"1.0\" encoding=\"UTF-8\" standalone=\"no\"?>\n<!DOCTYPE svg PUBLIC \"-//W3C//DTD SVG 1.1//EN\"\n \"http://www.w3.org/Graphics/SVG/1.1/DTD/svg11.dtd\">\n<!-- Generated by graphviz version 5.0.0 (20220707.1540)\n -->\n<!-- Pages: 1 -->\n<svg width=\"1586pt\" height=\"210pt\"\n viewBox=\"0.00 0.00 1586.00 210.00\" xmlns=\"http://www.w3.org/2000/svg\" xmlns:xlink=\"http://www.w3.org/1999/xlink\">\n<g id=\"graph0\" class=\"graph\" transform=\"scale(1 1) rotate(0) translate(4 206)\">\n<polygon fill=\"white\" stroke=\"transparent\" points=\"-4,4 -4,-206 1582,-206 1582,4 -4,4\"/>\n<!-- 2411454691840 -->\n<g id=\"node1\" class=\"node\">\n<title>2411454691840</title>\n<polygon fill=\"none\" stroke=\"black\" points=\"4,-165.5 4,-201.5 198,-201.5 198,-165.5 4,-165.5\"/>\n<text text-anchor=\"middle\" x=\"19\" y=\"-179.8\" font-family=\"Times New Roman,serif\" font-size=\"14.00\">x2</text>\n<polyline fill=\"none\" stroke=\"black\" points=\"34,-165.5 34,-201.5 \"/>\n<text text-anchor=\"middle\" x=\"74.5\" y=\"-179.8\" font-family=\"Times New Roman,serif\" font-size=\"14.00\">data 0.0000</text>\n<polyline fill=\"none\" stroke=\"black\" points=\"115,-165.5 115,-201.5 \"/>\n<text text-anchor=\"middle\" x=\"156.5\" y=\"-179.8\" font-family=\"Times New Roman,serif\" font-size=\"14.00\">grad 0.5000</text>\n</g>\n<!-- 2409807289632* -->\n<g id=\"node15\" class=\"node\">\n<title>2409807289632*</title>\n<ellipse fill=\"none\" stroke=\"black\" cx=\"265\" cy=\"-128.5\" rx=\"27\" ry=\"18\"/>\n<text text-anchor=\"middle\" x=\"265\" y=\"-124.8\" font-family=\"Times New Roman,serif\" font-size=\"14.00\">*</text>\n</g>\n<!-- 2411454691840&#45;&gt;2409807289632* -->\n<g id=\"edge13\" class=\"edge\">\n<title>2411454691840&#45;&gt;2409807289632*</title>\n<path fill=\"none\" stroke=\"black\" d=\"M174.26,-165.48C183.66,-162.7 193.11,-159.68 202,-156.5 212.53,-152.73 223.76,-147.91 233.72,-143.34\"/>\n<polygon fill=\"black\" stroke=\"black\" points=\"235.26,-146.49 242.83,-139.08 232.29,-140.15 235.26,-146.49\"/>\n</g>\n<!-- 2409807297552 -->\n<g id=\"node2\" class=\"node\">\n<title>2409807297552</title>\n<polygon fill=\"none\" stroke=\"black\" points=\"1390,-54.5 1390,-90.5 1578,-90.5 1578,-54.5 1390,-54.5\"/>\n<text text-anchor=\"middle\" x=\"1402\" y=\"-68.8\" font-family=\"Times New Roman,serif\" font-size=\"14.00\">o</text>\n<polyline fill=\"none\" stroke=\"black\" points=\"1414,-54.5 1414,-90.5 \"/>\n<text text-anchor=\"middle\" x=\"1454.5\" y=\"-68.8\" font-family=\"Times New Roman,serif\" font-size=\"14.00\">data 0.7071</text>\n<polyline fill=\"none\" stroke=\"black\" points=\"1495,-54.5 1495,-90.5 \"/>\n<text text-anchor=\"middle\" x=\"1536.5\" y=\"-68.8\" font-family=\"Times New Roman,serif\" font-size=\"14.00\">grad 1.0000</text>\n</g>\n<!-- 2409807297552tanh -->\n<g id=\"node3\" class=\"node\">\n<title>2409807297552tanh</title>\n<ellipse fill=\"none\" stroke=\"black\" cx=\"1327\" cy=\"-72.5\" rx=\"27\" ry=\"18\"/>\n<text text-anchor=\"middle\" x=\"1327\" y=\"-68.8\" font-family=\"Times New Roman,serif\" font-size=\"14.00\">tanh</text>\n</g>\n<!-- 2409807297552tanh&#45;&gt;2409807297552 -->\n<g id=\"edge1\" class=\"edge\">\n<title>2409807297552tanh&#45;&gt;2409807297552</title>\n<path fill=\"none\" stroke=\"black\" d=\"M1354.29,-72.5C1361.78,-72.5 1370.42,-72.5 1379.6,-72.5\"/>\n<polygon fill=\"black\" stroke=\"black\" points=\"1379.76,-76 1389.76,-72.5 1379.76,-69 1379.76,-76\"/>\n</g>\n<!-- 2409807298080 -->\n<g id=\"node4\" class=\"node\">\n<title>2409807298080</title>\n<polygon fill=\"none\" stroke=\"black\" points=\"1077,-54.5 1077,-90.5 1264,-90.5 1264,-54.5 1077,-54.5\"/>\n<text text-anchor=\"middle\" x=\"1088.5\" y=\"-68.8\" font-family=\"Times New Roman,serif\" font-size=\"14.00\">n</text>\n<polyline fill=\"none\" stroke=\"black\" points=\"1100,-54.5 1100,-90.5 \"/>\n<text text-anchor=\"middle\" x=\"1140.5\" y=\"-68.8\" font-family=\"Times New Roman,serif\" font-size=\"14.00\">data 0.8814</text>\n<polyline fill=\"none\" stroke=\"black\" points=\"1181,-54.5 1181,-90.5 \"/>\n<text text-anchor=\"middle\" x=\"1222.5\" y=\"-68.8\" font-family=\"Times New Roman,serif\" font-size=\"14.00\">grad 0.5000</text>\n</g>\n<!-- 2409807298080&#45;&gt;2409807297552tanh -->\n<g id=\"edge8\" class=\"edge\">\n<title>2409807298080&#45;&gt;2409807297552tanh</title>\n<path fill=\"none\" stroke=\"black\" d=\"M1264.05,-72.5C1273.06,-72.5 1281.79,-72.5 1289.7,-72.5\"/>\n<polygon fill=\"black\" stroke=\"black\" points=\"1289.95,-76 1299.95,-72.5 1289.95,-69 1289.95,-76\"/>\n</g>\n<!-- 2409807298080+ -->\n<g id=\"node5\" class=\"node\">\n<title>2409807298080+</title>\n<ellipse fill=\"none\" stroke=\"black\" cx=\"1014\" cy=\"-72.5\" rx=\"27\" ry=\"18\"/>\n<text text-anchor=\"middle\" x=\"1014\" y=\"-68.8\" font-family=\"Times New Roman,serif\" font-size=\"14.00\">+</text>\n</g>\n<!-- 2409807298080+&#45;&gt;2409807298080 -->\n<g id=\"edge2\" class=\"edge\">\n<title>2409807298080+&#45;&gt;2409807298080</title>\n<path fill=\"none\" stroke=\"black\" d=\"M1041.21,-72.5C1048.73,-72.5 1057.43,-72.5 1066.67,-72.5\"/>\n<polygon fill=\"black\" stroke=\"black\" points=\"1066.89,-76 1076.89,-72.5 1066.89,-69 1066.89,-76\"/>\n</g>\n<!-- 2411454692944 -->\n<g id=\"node6\" class=\"node\">\n<title>2411454692944</title>\n<polygon fill=\"none\" stroke=\"black\" points=\"0,-55.5 0,-91.5 202,-91.5 202,-55.5 0,-55.5\"/>\n<text text-anchor=\"middle\" x=\"16.5\" y=\"-69.8\" font-family=\"Times New Roman,serif\" font-size=\"14.00\">w1</text>\n<polyline fill=\"none\" stroke=\"black\" points=\"33,-55.5 33,-91.5 \"/>\n<text text-anchor=\"middle\" x=\"76\" y=\"-69.8\" font-family=\"Times New Roman,serif\" font-size=\"14.00\">data &#45;3.0000</text>\n<polyline fill=\"none\" stroke=\"black\" points=\"119,-55.5 119,-91.5 \"/>\n<text text-anchor=\"middle\" x=\"160.5\" y=\"-69.8\" font-family=\"Times New Roman,serif\" font-size=\"14.00\">grad 1.0000</text>\n</g>\n<!-- 2409807294672* -->\n<g id=\"node12\" class=\"node\">\n<title>2409807294672*</title>\n<ellipse fill=\"none\" stroke=\"black\" cx=\"265\" cy=\"-73.5\" rx=\"27\" ry=\"18\"/>\n<text text-anchor=\"middle\" x=\"265\" y=\"-69.8\" font-family=\"Times New Roman,serif\" font-size=\"14.00\">*</text>\n</g>\n<!-- 2411454692944&#45;&gt;2409807294672* -->\n<g id=\"edge10\" class=\"edge\">\n<title>2411454692944&#45;&gt;2409807294672*</title>\n<path fill=\"none\" stroke=\"black\" d=\"M202.29,-73.5C211.28,-73.5 219.93,-73.5 227.77,-73.5\"/>\n<polygon fill=\"black\" stroke=\"black\" points=\"227.91,-77 237.91,-73.5 227.91,-70 227.91,-77\"/>\n</g>\n<!-- 2411454689872 -->\n<g id=\"node7\" class=\"node\">\n<title>2411454689872</title>\n<polygon fill=\"none\" stroke=\"black\" points=\"2,-0.5 2,-36.5 200,-36.5 200,-0.5 2,-0.5\"/>\n<text text-anchor=\"middle\" x=\"17\" y=\"-14.8\" font-family=\"Times New Roman,serif\" font-size=\"14.00\">x1</text>\n<polyline fill=\"none\" stroke=\"black\" points=\"32,-0.5 32,-36.5 \"/>\n<text text-anchor=\"middle\" x=\"72.5\" y=\"-14.8\" font-family=\"Times New Roman,serif\" font-size=\"14.00\">data 2.0000</text>\n<polyline fill=\"none\" stroke=\"black\" points=\"113,-0.5 113,-36.5 \"/>\n<text text-anchor=\"middle\" x=\"156.5\" y=\"-14.8\" font-family=\"Times New Roman,serif\" font-size=\"14.00\">grad &#45;1.5000</text>\n</g>\n<!-- 2411454689872&#45;&gt;2409807294672* -->\n<g id=\"edge12\" class=\"edge\">\n<title>2411454689872&#45;&gt;2409807294672*</title>\n<path fill=\"none\" stroke=\"black\" d=\"M171.25,-36.55C181.63,-39.64 192.15,-42.99 202,-46.5 212.29,-50.16 223.28,-54.72 233.11,-59.05\"/>\n<polygon fill=\"black\" stroke=\"black\" points=\"231.93,-62.36 242.49,-63.26 234.8,-55.97 231.93,-62.36\"/>\n</g>\n<!-- 2409807294624 -->\n<g id=\"node8\" class=\"node\">\n<title>2409807294624</title>\n<polygon fill=\"none\" stroke=\"black\" points=\"676,-82.5 676,-118.5 951,-118.5 951,-82.5 676,-82.5\"/>\n<text text-anchor=\"middle\" x=\"729\" y=\"-96.8\" font-family=\"Times New Roman,serif\" font-size=\"14.00\">x1*w1 + x2*w2</text>\n<polyline fill=\"none\" stroke=\"black\" points=\"782,-82.5 782,-118.5 \"/>\n<text text-anchor=\"middle\" x=\"825\" y=\"-96.8\" font-family=\"Times New Roman,serif\" font-size=\"14.00\">data &#45;6.0000</text>\n<polyline fill=\"none\" stroke=\"black\" points=\"868,-82.5 868,-118.5 \"/>\n<text text-anchor=\"middle\" x=\"909.5\" y=\"-96.8\" font-family=\"Times New Roman,serif\" font-size=\"14.00\">grad 0.5000</text>\n</g>\n<!-- 2409807294624&#45;&gt;2409807298080+ -->\n<g id=\"edge6\" class=\"edge\">\n<title>2409807294624&#45;&gt;2409807298080+</title>\n<path fill=\"none\" stroke=\"black\" d=\"M942.18,-82.49C954.8,-80.71 966.75,-79.02 977.12,-77.56\"/>\n<polygon fill=\"black\" stroke=\"black\" points=\"977.9,-80.99 987.31,-76.12 976.92,-74.05 977.9,-80.99\"/>\n</g>\n<!-- 2409807294624+ -->\n<g id=\"node9\" class=\"node\">\n<title>2409807294624+</title>\n<ellipse fill=\"none\" stroke=\"black\" cx=\"613\" cy=\"-100.5\" rx=\"27\" ry=\"18\"/>\n<text text-anchor=\"middle\" x=\"613\" y=\"-96.8\" font-family=\"Times New Roman,serif\" font-size=\"14.00\">+</text>\n</g>\n<!-- 2409807294624+&#45;&gt;2409807294624 -->\n<g id=\"edge3\" class=\"edge\">\n<title>2409807294624+&#45;&gt;2409807294624</title>\n<path fill=\"none\" stroke=\"black\" d=\"M640.36,-100.5C647.8,-100.5 656.45,-100.5 665.84,-100.5\"/>\n<polygon fill=\"black\" stroke=\"black\" points=\"665.88,-104 675.88,-100.5 665.88,-97 665.88,-104\"/>\n</g>\n<!-- 2411454693040 -->\n<g id=\"node10\" class=\"node\">\n<title>2411454693040</title>\n<polygon fill=\"none\" stroke=\"black\" points=\"2.5,-110.5 2.5,-146.5 199.5,-146.5 199.5,-110.5 2.5,-110.5\"/>\n<text text-anchor=\"middle\" x=\"19\" y=\"-124.8\" font-family=\"Times New Roman,serif\" font-size=\"14.00\">w2</text>\n<polyline fill=\"none\" stroke=\"black\" points=\"35.5,-110.5 35.5,-146.5 \"/>\n<text text-anchor=\"middle\" x=\"76\" y=\"-124.8\" font-family=\"Times New Roman,serif\" font-size=\"14.00\">data 1.0000</text>\n<polyline fill=\"none\" stroke=\"black\" points=\"116.5,-110.5 116.5,-146.5 \"/>\n<text text-anchor=\"middle\" x=\"158\" y=\"-124.8\" font-family=\"Times New Roman,serif\" font-size=\"14.00\">grad 0.0000</text>\n</g>\n<!-- 2411454693040&#45;&gt;2409807289632* -->\n<g id=\"edge11\" class=\"edge\">\n<title>2411454693040&#45;&gt;2409807289632*</title>\n<path fill=\"none\" stroke=\"black\" d=\"M199.51,-128.5C209.51,-128.5 219.17,-128.5 227.82,-128.5\"/>\n<polygon fill=\"black\" stroke=\"black\" points=\"227.84,-132 237.84,-128.5 227.84,-125 227.84,-132\"/>\n</g>\n<!-- 2409807294672 -->\n<g id=\"node11\" class=\"node\">\n<title>2409807294672</title>\n<polygon fill=\"none\" stroke=\"black\" points=\"328,-55.5 328,-91.5 550,-91.5 550,-55.5 328,-55.5\"/>\n<text text-anchor=\"middle\" x=\"354.5\" y=\"-69.8\" font-family=\"Times New Roman,serif\" font-size=\"14.00\">x1*w1</text>\n<polyline fill=\"none\" stroke=\"black\" points=\"381,-55.5 381,-91.5 \"/>\n<text text-anchor=\"middle\" x=\"424\" y=\"-69.8\" font-family=\"Times New Roman,serif\" font-size=\"14.00\">data &#45;6.0000</text>\n<polyline fill=\"none\" stroke=\"black\" points=\"467,-55.5 467,-91.5 \"/>\n<text text-anchor=\"middle\" x=\"508.5\" y=\"-69.8\" font-family=\"Times New Roman,serif\" font-size=\"14.00\">grad 0.5000</text>\n</g>\n<!-- 2409807294672&#45;&gt;2409807294624+ -->\n<g id=\"edge9\" class=\"edge\">\n<title>2409807294672&#45;&gt;2409807294624+</title>\n<path fill=\"none\" stroke=\"black\" d=\"M550.39,-90.83C559.67,-92.29 568.54,-93.68 576.51,-94.93\"/>\n<polygon fill=\"black\" stroke=\"black\" points=\"576.01,-98.39 586.43,-96.49 577.09,-91.48 576.01,-98.39\"/>\n</g>\n<!-- 2409807294672*&#45;&gt;2409807294672 -->\n<g id=\"edge4\" class=\"edge\">\n<title>2409807294672*&#45;&gt;2409807294672</title>\n<path fill=\"none\" stroke=\"black\" d=\"M292.12,-73.5C299.66,-73.5 308.41,-73.5 317.81,-73.5\"/>\n<polygon fill=\"black\" stroke=\"black\" points=\"317.82,-77 327.81,-73.5 317.81,-70 317.82,-77\"/>\n</g>\n<!-- 2409807296736 -->\n<g id=\"node13\" class=\"node\">\n<title>2409807296736</title>\n<polygon fill=\"none\" stroke=\"black\" points=\"719.5,-27.5 719.5,-63.5 907.5,-63.5 907.5,-27.5 719.5,-27.5\"/>\n<text text-anchor=\"middle\" x=\"731.5\" y=\"-41.8\" font-family=\"Times New Roman,serif\" font-size=\"14.00\">b</text>\n<polyline fill=\"none\" stroke=\"black\" points=\"743.5,-27.5 743.5,-63.5 \"/>\n<text text-anchor=\"middle\" x=\"784\" y=\"-41.8\" font-family=\"Times New Roman,serif\" font-size=\"14.00\">data 6.8814</text>\n<polyline fill=\"none\" stroke=\"black\" points=\"824.5,-27.5 824.5,-63.5 \"/>\n<text text-anchor=\"middle\" x=\"866\" y=\"-41.8\" font-family=\"Times New Roman,serif\" font-size=\"14.00\">grad 0.5000</text>\n</g>\n<!-- 2409807296736&#45;&gt;2409807298080+ -->\n<g id=\"edge7\" class=\"edge\">\n<title>2409807296736&#45;&gt;2409807298080+</title>\n<path fill=\"none\" stroke=\"black\" d=\"M907.65,-58.17C932.41,-61.54 957.68,-64.98 977.26,-67.64\"/>\n<polygon fill=\"black\" stroke=\"black\" points=\"976.85,-71.12 987.23,-68.99 977.79,-64.18 976.85,-71.12\"/>\n</g>\n<!-- 2409807289632 -->\n<g id=\"node14\" class=\"node\">\n<title>2409807289632</title>\n<polygon fill=\"none\" stroke=\"black\" points=\"330.5,-110.5 330.5,-146.5 547.5,-146.5 547.5,-110.5 330.5,-110.5\"/>\n<text text-anchor=\"middle\" x=\"357\" y=\"-124.8\" font-family=\"Times New Roman,serif\" font-size=\"14.00\">x2*w2</text>\n<polyline fill=\"none\" stroke=\"black\" points=\"383.5,-110.5 383.5,-146.5 \"/>\n<text text-anchor=\"middle\" x=\"424\" y=\"-124.8\" font-family=\"Times New Roman,serif\" font-size=\"14.00\">data 0.0000</text>\n<polyline fill=\"none\" stroke=\"black\" points=\"464.5,-110.5 464.5,-146.5 \"/>\n<text text-anchor=\"middle\" x=\"506\" y=\"-124.8\" font-family=\"Times New Roman,serif\" font-size=\"14.00\">grad 0.5000</text>\n</g>\n<!-- 2409807289632&#45;&gt;2409807294624+ -->\n<g id=\"edge14\" class=\"edge\">\n<title>2409807289632&#45;&gt;2409807294624+</title>\n<path fill=\"none\" stroke=\"black\" d=\"M547.95,-110.93C558.13,-109.27 567.86,-107.69 576.53,-106.27\"/>\n<polygon fill=\"black\" stroke=\"black\" points=\"577.23,-109.71 586.54,-104.64 576.11,-102.8 577.23,-109.71\"/>\n</g>\n<!-- 2409807289632*&#45;&gt;2409807289632 -->\n<g id=\"edge5\" class=\"edge\">\n<title>2409807289632*&#45;&gt;2409807289632</title>\n<path fill=\"none\" stroke=\"black\" d=\"M292.12,-128.5C300.31,-128.5 309.94,-128.5 320.28,-128.5\"/>\n<polygon fill=\"black\" stroke=\"black\" points=\"320.39,-132 330.39,-128.5 320.39,-125 320.39,-132\"/>\n</g>\n</g>\n</svg>\n",
      "text/plain": [
       "<graphviz.graphs.Digraph at 0x23113b53580>"
      ]
     },
     "execution_count": 8,
     "metadata": {},
     "output_type": "execute_result"
    }
   ],
   "source": [
    "draw_dot(o)"
   ]
  },
  {
   "cell_type": "code",
   "execution_count": 7,
   "metadata": {},
   "outputs": [],
   "source": [
    "o.backward()"
   ]
  },
  {
   "cell_type": "code",
   "execution_count": 35,
   "metadata": {},
   "outputs": [
    {
     "data": {
      "image/svg+xml": "<?xml version=\"1.0\" encoding=\"UTF-8\" standalone=\"no\"?>\n<!DOCTYPE svg PUBLIC \"-//W3C//DTD SVG 1.1//EN\"\n \"http://www.w3.org/Graphics/SVG/1.1/DTD/svg11.dtd\">\n<!-- Generated by graphviz version 5.0.0 (20220707.1540)\n -->\n<!-- Pages: 1 -->\n<svg width=\"2965pt\" height=\"236pt\"\n viewBox=\"0.00 0.00 2965.00 236.00\" xmlns=\"http://www.w3.org/2000/svg\" xmlns:xlink=\"http://www.w3.org/1999/xlink\">\n<g id=\"graph0\" class=\"graph\" transform=\"scale(1 1) rotate(0) translate(4 232)\">\n<polygon fill=\"white\" stroke=\"transparent\" points=\"-4,4 -4,-232 2961,-232 2961,4 -4,4\"/>\n<!-- 2409808388608 -->\n<g id=\"node1\" class=\"node\">\n<title>2409808388608</title>\n<polygon fill=\"none\" stroke=\"black\" points=\"2015,-163.5 2015,-199.5 2203,-199.5 2203,-163.5 2015,-163.5\"/>\n<text text-anchor=\"middle\" x=\"2025\" y=\"-177.8\" font-family=\"Times New Roman,serif\" font-size=\"14.00\"> </text>\n<polyline fill=\"none\" stroke=\"black\" points=\"2035,-163.5 2035,-199.5 \"/>\n<text text-anchor=\"middle\" x=\"2075.5\" y=\"-177.8\" font-family=\"Times New Roman,serif\" font-size=\"14.00\">data 6.8284</text>\n<polyline fill=\"none\" stroke=\"black\" points=\"2116,-163.5 2116,-199.5 \"/>\n<text text-anchor=\"middle\" x=\"2159.5\" y=\"-177.8\" font-family=\"Times New Roman,serif\" font-size=\"14.00\">grad &#45;0.1036</text>\n</g>\n<!-- 2409808387936**&#45;1 -->\n<g id=\"node22\" class=\"node\">\n<title>2409808387936**&#45;1</title>\n<ellipse fill=\"none\" stroke=\"black\" cx=\"2331\" cy=\"-181.5\" rx=\"27\" ry=\"18\"/>\n<text text-anchor=\"middle\" x=\"2331\" y=\"-177.8\" font-family=\"Times New Roman,serif\" font-size=\"14.00\">**&#45;1</text>\n</g>\n<!-- 2409808388608&#45;&gt;2409808387936**&#45;1 -->\n<g id=\"edge15\" class=\"edge\">\n<title>2409808388608&#45;&gt;2409808387936**&#45;1</title>\n<path fill=\"none\" stroke=\"black\" d=\"M2203.3,-181.5C2235.13,-181.5 2268.87,-181.5 2293.52,-181.5\"/>\n<polygon fill=\"black\" stroke=\"black\" points=\"2293.83,-185 2303.83,-181.5 2293.83,-178 2293.83,-185\"/>\n</g>\n<!-- 2409808388608+ -->\n<g id=\"node2\" class=\"node\">\n<title>2409808388608+</title>\n<ellipse fill=\"none\" stroke=\"black\" cx=\"1952\" cy=\"-181.5\" rx=\"27\" ry=\"18\"/>\n<text text-anchor=\"middle\" x=\"1952\" y=\"-177.8\" font-family=\"Times New Roman,serif\" font-size=\"14.00\">+</text>\n</g>\n<!-- 2409808388608+&#45;&gt;2409808388608 -->\n<g id=\"edge1\" class=\"edge\">\n<title>2409808388608+&#45;&gt;2409808388608</title>\n<path fill=\"none\" stroke=\"black\" d=\"M1979.29,-181.5C1986.78,-181.5 1995.42,-181.5 2004.6,-181.5\"/>\n<polygon fill=\"black\" stroke=\"black\" points=\"2004.76,-185 2014.76,-181.5 2004.76,-178 2004.76,-185\"/>\n</g>\n<!-- 2409808387600 -->\n<g id=\"node3\" class=\"node\">\n<title>2409808387600</title>\n<polygon fill=\"none\" stroke=\"black\" points=\"2239,-108.5 2239,-144.5 2423,-144.5 2423,-108.5 2239,-108.5\"/>\n<text text-anchor=\"middle\" x=\"2249\" y=\"-122.8\" font-family=\"Times New Roman,serif\" font-size=\"14.00\"> </text>\n<polyline fill=\"none\" stroke=\"black\" points=\"2259,-108.5 2259,-144.5 \"/>\n<text text-anchor=\"middle\" x=\"2299.5\" y=\"-122.8\" font-family=\"Times New Roman,serif\" font-size=\"14.00\">data 4.8284</text>\n<polyline fill=\"none\" stroke=\"black\" points=\"2340,-108.5 2340,-144.5 \"/>\n<text text-anchor=\"middle\" x=\"2381.5\" y=\"-122.8\" font-family=\"Times New Roman,serif\" font-size=\"14.00\">grad 0.1464</text>\n</g>\n<!-- 2409808388944* -->\n<g id=\"node20\" class=\"node\">\n<title>2409808388944*</title>\n<ellipse fill=\"none\" stroke=\"black\" cx=\"2706\" cy=\"-153.5\" rx=\"27\" ry=\"18\"/>\n<text text-anchor=\"middle\" x=\"2706\" y=\"-149.8\" font-family=\"Times New Roman,serif\" font-size=\"14.00\">*</text>\n</g>\n<!-- 2409808387600&#45;&gt;2409808388944* -->\n<g id=\"edge28\" class=\"edge\">\n<title>2409808387600&#45;&gt;2409808388944*</title>\n<path fill=\"none\" stroke=\"black\" d=\"M2423.25,-133.1C2502.27,-138.82 2612.47,-146.8 2668.77,-150.88\"/>\n<polygon fill=\"black\" stroke=\"black\" points=\"2668.73,-154.38 2678.96,-151.61 2669.24,-147.4 2668.73,-154.38\"/>\n</g>\n<!-- 2409808387600+ -->\n<g id=\"node4\" class=\"node\">\n<title>2409808387600+</title>\n<ellipse fill=\"none\" stroke=\"black\" cx=\"1952\" cy=\"-126.5\" rx=\"27\" ry=\"18\"/>\n<text text-anchor=\"middle\" x=\"1952\" y=\"-122.8\" font-family=\"Times New Roman,serif\" font-size=\"14.00\">+</text>\n</g>\n<!-- 2409808387600+&#45;&gt;2409808387600 -->\n<g id=\"edge2\" class=\"edge\">\n<title>2409808387600+&#45;&gt;2409808387600</title>\n<path fill=\"none\" stroke=\"black\" d=\"M1979.21,-126.5C2030,-126.5 2144.23,-126.5 2228.6,-126.5\"/>\n<polygon fill=\"black\" stroke=\"black\" points=\"2228.74,-130 2238.74,-126.5 2228.74,-123 2228.74,-130\"/>\n</g>\n<!-- 2409808385056 -->\n<g id=\"node5\" class=\"node\">\n<title>2409808385056</title>\n<polygon fill=\"none\" stroke=\"black\" points=\"1702.5,-136.5 1702.5,-172.5 1886.5,-172.5 1886.5,-136.5 1702.5,-136.5\"/>\n<text text-anchor=\"middle\" x=\"1712.5\" y=\"-150.8\" font-family=\"Times New Roman,serif\" font-size=\"14.00\"> </text>\n<polyline fill=\"none\" stroke=\"black\" points=\"1722.5,-136.5 1722.5,-172.5 \"/>\n<text text-anchor=\"middle\" x=\"1763\" y=\"-150.8\" font-family=\"Times New Roman,serif\" font-size=\"14.00\">data 5.8284</text>\n<polyline fill=\"none\" stroke=\"black\" points=\"1803.5,-136.5 1803.5,-172.5 \"/>\n<text text-anchor=\"middle\" x=\"1845\" y=\"-150.8\" font-family=\"Times New Roman,serif\" font-size=\"14.00\">grad 0.0429</text>\n</g>\n<!-- 2409808385056&#45;&gt;2409808388608+ -->\n<g id=\"edge16\" class=\"edge\">\n<title>2409808385056&#45;&gt;2409808388608+</title>\n<path fill=\"none\" stroke=\"black\" d=\"M1886.85,-170.36C1897.12,-172.14 1907.05,-173.87 1915.92,-175.41\"/>\n<polygon fill=\"black\" stroke=\"black\" points=\"1915.34,-178.86 1925.79,-177.12 1916.54,-171.96 1915.34,-178.86\"/>\n</g>\n<!-- 2409808385056&#45;&gt;2409808387600+ -->\n<g id=\"edge17\" class=\"edge\">\n<title>2409808385056&#45;&gt;2409808387600+</title>\n<path fill=\"none\" stroke=\"black\" d=\"M1886.85,-138.05C1897.12,-136.2 1907.05,-134.41 1915.92,-132.82\"/>\n<polygon fill=\"black\" stroke=\"black\" points=\"1916.57,-136.26 1925.79,-131.04 1915.33,-129.37 1916.57,-136.26\"/>\n</g>\n<!-- 2409808385056exp -->\n<g id=\"node6\" class=\"node\">\n<title>2409808385056exp</title>\n<ellipse fill=\"none\" stroke=\"black\" cx=\"1637\" cy=\"-154.5\" rx=\"27\" ry=\"18\"/>\n<text text-anchor=\"middle\" x=\"1637\" y=\"-150.8\" font-family=\"Times New Roman,serif\" font-size=\"14.00\">exp</text>\n</g>\n<!-- 2409808385056exp&#45;&gt;2409808385056 -->\n<g id=\"edge3\" class=\"edge\">\n<title>2409808385056exp&#45;&gt;2409808385056</title>\n<path fill=\"none\" stroke=\"black\" d=\"M1664.03,-154.5C1672.28,-154.5 1681.96,-154.5 1692.25,-154.5\"/>\n<polygon fill=\"black\" stroke=\"black\" points=\"1692.27,-158 1702.27,-154.5 1692.27,-151 1692.27,-158\"/>\n</g>\n<!-- 2409808392256 -->\n<g id=\"node7\" class=\"node\">\n<title>2409808392256</title>\n<polygon fill=\"none\" stroke=\"black\" points=\"1390,-136.5 1390,-172.5 1574,-172.5 1574,-136.5 1390,-136.5\"/>\n<text text-anchor=\"middle\" x=\"1400\" y=\"-150.8\" font-family=\"Times New Roman,serif\" font-size=\"14.00\"> </text>\n<polyline fill=\"none\" stroke=\"black\" points=\"1410,-136.5 1410,-172.5 \"/>\n<text text-anchor=\"middle\" x=\"1450.5\" y=\"-150.8\" font-family=\"Times New Roman,serif\" font-size=\"14.00\">data 1.7627</text>\n<polyline fill=\"none\" stroke=\"black\" points=\"1491,-136.5 1491,-172.5 \"/>\n<text text-anchor=\"middle\" x=\"1532.5\" y=\"-150.8\" font-family=\"Times New Roman,serif\" font-size=\"14.00\">grad 0.2500</text>\n</g>\n<!-- 2409808392256&#45;&gt;2409808385056exp -->\n<g id=\"edge27\" class=\"edge\">\n<title>2409808392256&#45;&gt;2409808385056exp</title>\n<path fill=\"none\" stroke=\"black\" d=\"M1574.21,-154.5C1583.19,-154.5 1591.88,-154.5 1599.77,-154.5\"/>\n<polygon fill=\"black\" stroke=\"black\" points=\"1599.99,-158 1609.99,-154.5 1599.99,-151 1599.99,-158\"/>\n</g>\n<!-- 2409808392256* -->\n<g id=\"node8\" class=\"node\">\n<title>2409808392256*</title>\n<ellipse fill=\"none\" stroke=\"black\" cx=\"1327\" cy=\"-154.5\" rx=\"27\" ry=\"18\"/>\n<text text-anchor=\"middle\" x=\"1327\" y=\"-150.8\" font-family=\"Times New Roman,serif\" font-size=\"14.00\">*</text>\n</g>\n<!-- 2409808392256*&#45;&gt;2409808392256 -->\n<g id=\"edge4\" class=\"edge\">\n<title>2409808392256*&#45;&gt;2409808392256</title>\n<path fill=\"none\" stroke=\"black\" d=\"M1354.3,-154.5C1361.83,-154.5 1370.52,-154.5 1379.75,-154.5\"/>\n<polygon fill=\"black\" stroke=\"black\" points=\"1379.95,-158 1389.95,-154.5 1379.95,-151 1379.95,-158\"/>\n</g>\n<!-- 2409808383568 -->\n<g id=\"node9\" class=\"node\">\n<title>2409808383568</title>\n<polygon fill=\"none\" stroke=\"black\" points=\"1700,-81.5 1700,-117.5 1889,-117.5 1889,-81.5 1700,-81.5\"/>\n<text text-anchor=\"middle\" x=\"1710\" y=\"-95.8\" font-family=\"Times New Roman,serif\" font-size=\"14.00\"> </text>\n<polyline fill=\"none\" stroke=\"black\" points=\"1720,-81.5 1720,-117.5 \"/>\n<text text-anchor=\"middle\" x=\"1763\" y=\"-95.8\" font-family=\"Times New Roman,serif\" font-size=\"14.00\">data &#45;1.0000</text>\n<polyline fill=\"none\" stroke=\"black\" points=\"1806,-81.5 1806,-117.5 \"/>\n<text text-anchor=\"middle\" x=\"1847.5\" y=\"-95.8\" font-family=\"Times New Roman,serif\" font-size=\"14.00\">grad 0.1464</text>\n</g>\n<!-- 2409808383568&#45;&gt;2409808387600+ -->\n<g id=\"edge22\" class=\"edge\">\n<title>2409808383568&#45;&gt;2409808387600+</title>\n<path fill=\"none\" stroke=\"black\" d=\"M1889.1,-115.75C1898.4,-117.37 1907.38,-118.93 1915.49,-120.33\"/>\n<polygon fill=\"black\" stroke=\"black\" points=\"1915.14,-123.83 1925.59,-122.09 1916.34,-116.93 1915.14,-123.83\"/>\n</g>\n<!-- 2409810557056 -->\n<g id=\"node10\" class=\"node\">\n<title>2409810557056</title>\n<polygon fill=\"none\" stroke=\"black\" points=\"4,-165.5 4,-201.5 198,-201.5 198,-165.5 4,-165.5\"/>\n<text text-anchor=\"middle\" x=\"19\" y=\"-179.8\" font-family=\"Times New Roman,serif\" font-size=\"14.00\">x2</text>\n<polyline fill=\"none\" stroke=\"black\" points=\"34,-165.5 34,-201.5 \"/>\n<text text-anchor=\"middle\" x=\"74.5\" y=\"-179.8\" font-family=\"Times New Roman,serif\" font-size=\"14.00\">data 0.0000</text>\n<polyline fill=\"none\" stroke=\"black\" points=\"115,-165.5 115,-201.5 \"/>\n<text text-anchor=\"middle\" x=\"156.5\" y=\"-179.8\" font-family=\"Times New Roman,serif\" font-size=\"14.00\">grad 0.5000</text>\n</g>\n<!-- 2409808389856* -->\n<g id=\"node13\" class=\"node\">\n<title>2409808389856*</title>\n<ellipse fill=\"none\" stroke=\"black\" cx=\"265\" cy=\"-128.5\" rx=\"27\" ry=\"18\"/>\n<text text-anchor=\"middle\" x=\"265\" y=\"-124.8\" font-family=\"Times New Roman,serif\" font-size=\"14.00\">*</text>\n</g>\n<!-- 2409810557056&#45;&gt;2409808389856* -->\n<g id=\"edge20\" class=\"edge\">\n<title>2409810557056&#45;&gt;2409808389856*</title>\n<path fill=\"none\" stroke=\"black\" d=\"M174.26,-165.48C183.66,-162.7 193.11,-159.68 202,-156.5 212.53,-152.73 223.76,-147.91 233.72,-143.34\"/>\n<polygon fill=\"black\" stroke=\"black\" points=\"235.26,-146.49 242.83,-139.08 232.29,-140.15 235.26,-146.49\"/>\n</g>\n<!-- 2409810546352 -->\n<g id=\"node11\" class=\"node\">\n<title>2409810546352</title>\n<polygon fill=\"none\" stroke=\"black\" points=\"0,-55.5 0,-91.5 202,-91.5 202,-55.5 0,-55.5\"/>\n<text text-anchor=\"middle\" x=\"16.5\" y=\"-69.8\" font-family=\"Times New Roman,serif\" font-size=\"14.00\">w1</text>\n<polyline fill=\"none\" stroke=\"black\" points=\"33,-55.5 33,-91.5 \"/>\n<text text-anchor=\"middle\" x=\"76\" y=\"-69.8\" font-family=\"Times New Roman,serif\" font-size=\"14.00\">data &#45;3.0000</text>\n<polyline fill=\"none\" stroke=\"black\" points=\"119,-55.5 119,-91.5 \"/>\n<text text-anchor=\"middle\" x=\"160.5\" y=\"-69.8\" font-family=\"Times New Roman,serif\" font-size=\"14.00\">grad 1.0000</text>\n</g>\n<!-- 2409808387888* -->\n<g id=\"node17\" class=\"node\">\n<title>2409808387888*</title>\n<ellipse fill=\"none\" stroke=\"black\" cx=\"265\" cy=\"-73.5\" rx=\"27\" ry=\"18\"/>\n<text text-anchor=\"middle\" x=\"265\" y=\"-69.8\" font-family=\"Times New Roman,serif\" font-size=\"14.00\">*</text>\n</g>\n<!-- 2409810546352&#45;&gt;2409808387888* -->\n<g id=\"edge11\" class=\"edge\">\n<title>2409810546352&#45;&gt;2409808387888*</title>\n<path fill=\"none\" stroke=\"black\" d=\"M202.29,-73.5C211.28,-73.5 219.93,-73.5 227.77,-73.5\"/>\n<polygon fill=\"black\" stroke=\"black\" points=\"227.91,-77 237.91,-73.5 227.91,-70 227.91,-77\"/>\n</g>\n<!-- 2409808389856 -->\n<g id=\"node12\" class=\"node\">\n<title>2409808389856</title>\n<polygon fill=\"none\" stroke=\"black\" points=\"330.5,-110.5 330.5,-146.5 547.5,-146.5 547.5,-110.5 330.5,-110.5\"/>\n<text text-anchor=\"middle\" x=\"357\" y=\"-124.8\" font-family=\"Times New Roman,serif\" font-size=\"14.00\">x2*w2</text>\n<polyline fill=\"none\" stroke=\"black\" points=\"383.5,-110.5 383.5,-146.5 \"/>\n<text text-anchor=\"middle\" x=\"424\" y=\"-124.8\" font-family=\"Times New Roman,serif\" font-size=\"14.00\">data 0.0000</text>\n<polyline fill=\"none\" stroke=\"black\" points=\"464.5,-110.5 464.5,-146.5 \"/>\n<text text-anchor=\"middle\" x=\"506\" y=\"-124.8\" font-family=\"Times New Roman,serif\" font-size=\"14.00\">grad 0.5000</text>\n</g>\n<!-- 2409808383472+ -->\n<g id=\"node28\" class=\"node\">\n<title>2409808383472+</title>\n<ellipse fill=\"none\" stroke=\"black\" cx=\"613\" cy=\"-100.5\" rx=\"27\" ry=\"18\"/>\n<text text-anchor=\"middle\" x=\"613\" y=\"-96.8\" font-family=\"Times New Roman,serif\" font-size=\"14.00\">+</text>\n</g>\n<!-- 2409808389856&#45;&gt;2409808383472+ -->\n<g id=\"edge21\" class=\"edge\">\n<title>2409808389856&#45;&gt;2409808383472+</title>\n<path fill=\"none\" stroke=\"black\" d=\"M547.95,-110.93C558.13,-109.27 567.86,-107.69 576.53,-106.27\"/>\n<polygon fill=\"black\" stroke=\"black\" points=\"577.23,-109.71 586.54,-104.64 576.11,-102.8 577.23,-109.71\"/>\n</g>\n<!-- 2409808389856*&#45;&gt;2409808389856 -->\n<g id=\"edge5\" class=\"edge\">\n<title>2409808389856*&#45;&gt;2409808389856</title>\n<path fill=\"none\" stroke=\"black\" d=\"M292.12,-128.5C300.31,-128.5 309.94,-128.5 320.28,-128.5\"/>\n<polygon fill=\"black\" stroke=\"black\" points=\"320.39,-132 330.39,-128.5 320.39,-125 320.39,-132\"/>\n</g>\n<!-- 2409808384768 -->\n<g id=\"node14\" class=\"node\">\n<title>2409808384768</title>\n<polygon fill=\"none\" stroke=\"black\" points=\"719.5,-137.5 719.5,-173.5 907.5,-173.5 907.5,-137.5 719.5,-137.5\"/>\n<text text-anchor=\"middle\" x=\"731.5\" y=\"-151.8\" font-family=\"Times New Roman,serif\" font-size=\"14.00\">b</text>\n<polyline fill=\"none\" stroke=\"black\" points=\"743.5,-137.5 743.5,-173.5 \"/>\n<text text-anchor=\"middle\" x=\"784\" y=\"-151.8\" font-family=\"Times New Roman,serif\" font-size=\"14.00\">data 6.8814</text>\n<polyline fill=\"none\" stroke=\"black\" points=\"824.5,-137.5 824.5,-173.5 \"/>\n<text text-anchor=\"middle\" x=\"866\" y=\"-151.8\" font-family=\"Times New Roman,serif\" font-size=\"14.00\">grad 0.5000</text>\n</g>\n<!-- 2409808391632+ -->\n<g id=\"node25\" class=\"node\">\n<title>2409808391632+</title>\n<ellipse fill=\"none\" stroke=\"black\" cx=\"1014\" cy=\"-127.5\" rx=\"27\" ry=\"18\"/>\n<text text-anchor=\"middle\" x=\"1014\" y=\"-123.8\" font-family=\"Times New Roman,serif\" font-size=\"14.00\">+</text>\n</g>\n<!-- 2409808384768&#45;&gt;2409808391632+ -->\n<g id=\"edge26\" class=\"edge\">\n<title>2409808384768&#45;&gt;2409808391632+</title>\n<path fill=\"none\" stroke=\"black\" d=\"M907.65,-142.36C932.41,-138.87 957.68,-135.3 977.26,-132.54\"/>\n<polygon fill=\"black\" stroke=\"black\" points=\"977.82,-136 987.23,-131.13 976.84,-129.07 977.82,-136\"/>\n</g>\n<!-- 2409808389904 -->\n<g id=\"node15\" class=\"node\">\n<title>2409808389904</title>\n<polygon fill=\"none\" stroke=\"black\" points=\"1078.5,-164.5 1078.5,-200.5 1262.5,-200.5 1262.5,-164.5 1078.5,-164.5\"/>\n<text text-anchor=\"middle\" x=\"1088.5\" y=\"-178.8\" font-family=\"Times New Roman,serif\" font-size=\"14.00\"> </text>\n<polyline fill=\"none\" stroke=\"black\" points=\"1098.5,-164.5 1098.5,-200.5 \"/>\n<text text-anchor=\"middle\" x=\"1139\" y=\"-178.8\" font-family=\"Times New Roman,serif\" font-size=\"14.00\">data 2.0000</text>\n<polyline fill=\"none\" stroke=\"black\" points=\"1179.5,-164.5 1179.5,-200.5 \"/>\n<text text-anchor=\"middle\" x=\"1221\" y=\"-178.8\" font-family=\"Times New Roman,serif\" font-size=\"14.00\">grad 0.2203</text>\n</g>\n<!-- 2409808389904&#45;&gt;2409808392256* -->\n<g id=\"edge24\" class=\"edge\">\n<title>2409808389904&#45;&gt;2409808392256*</title>\n<path fill=\"none\" stroke=\"black\" d=\"M1262.71,-165.97C1272.65,-164.17 1282.27,-162.42 1290.89,-160.86\"/>\n<polygon fill=\"black\" stroke=\"black\" points=\"1291.63,-164.29 1300.85,-159.06 1290.38,-157.4 1291.63,-164.29\"/>\n</g>\n<!-- 2409808387888 -->\n<g id=\"node16\" class=\"node\">\n<title>2409808387888</title>\n<polygon fill=\"none\" stroke=\"black\" points=\"328,-55.5 328,-91.5 550,-91.5 550,-55.5 328,-55.5\"/>\n<text text-anchor=\"middle\" x=\"354.5\" y=\"-69.8\" font-family=\"Times New Roman,serif\" font-size=\"14.00\">x1*w1</text>\n<polyline fill=\"none\" stroke=\"black\" points=\"381,-55.5 381,-91.5 \"/>\n<text text-anchor=\"middle\" x=\"424\" y=\"-69.8\" font-family=\"Times New Roman,serif\" font-size=\"14.00\">data &#45;6.0000</text>\n<polyline fill=\"none\" stroke=\"black\" points=\"467,-55.5 467,-91.5 \"/>\n<text text-anchor=\"middle\" x=\"508.5\" y=\"-69.8\" font-family=\"Times New Roman,serif\" font-size=\"14.00\">grad 0.5000</text>\n</g>\n<!-- 2409808387888&#45;&gt;2409808383472+ -->\n<g id=\"edge19\" class=\"edge\">\n<title>2409808387888&#45;&gt;2409808383472+</title>\n<path fill=\"none\" stroke=\"black\" d=\"M550.39,-90.83C559.67,-92.29 568.54,-93.68 576.51,-94.93\"/>\n<polygon fill=\"black\" stroke=\"black\" points=\"576.01,-98.39 586.43,-96.49 577.09,-91.48 576.01,-98.39\"/>\n</g>\n<!-- 2409808387888*&#45;&gt;2409808387888 -->\n<g id=\"edge6\" class=\"edge\">\n<title>2409808387888*&#45;&gt;2409808387888</title>\n<path fill=\"none\" stroke=\"black\" d=\"M292.12,-73.5C299.66,-73.5 308.41,-73.5 317.81,-73.5\"/>\n<polygon fill=\"black\" stroke=\"black\" points=\"317.82,-77 327.81,-73.5 317.81,-70 317.82,-77\"/>\n</g>\n<!-- 2409808383424 -->\n<g id=\"node18\" class=\"node\">\n<title>2409808383424</title>\n<polygon fill=\"none\" stroke=\"black\" points=\"1700.5,-191.5 1700.5,-227.5 1888.5,-227.5 1888.5,-191.5 1700.5,-191.5\"/>\n<text text-anchor=\"middle\" x=\"1710.5\" y=\"-205.8\" font-family=\"Times New Roman,serif\" font-size=\"14.00\"> </text>\n<polyline fill=\"none\" stroke=\"black\" points=\"1720.5,-191.5 1720.5,-227.5 \"/>\n<text text-anchor=\"middle\" x=\"1761\" y=\"-205.8\" font-family=\"Times New Roman,serif\" font-size=\"14.00\">data 1.0000</text>\n<polyline fill=\"none\" stroke=\"black\" points=\"1801.5,-191.5 1801.5,-227.5 \"/>\n<text text-anchor=\"middle\" x=\"1845\" y=\"-205.8\" font-family=\"Times New Roman,serif\" font-size=\"14.00\">grad &#45;0.1036</text>\n</g>\n<!-- 2409808383424&#45;&gt;2409808388608+ -->\n<g id=\"edge23\" class=\"edge\">\n<title>2409808383424&#45;&gt;2409808388608+</title>\n<path fill=\"none\" stroke=\"black\" d=\"M1888.65,-192.73C1898.2,-191.01 1907.43,-189.35 1915.72,-187.85\"/>\n<polygon fill=\"black\" stroke=\"black\" points=\"1916.47,-191.27 1925.69,-186.06 1915.23,-184.39 1916.47,-191.27\"/>\n</g>\n<!-- 2409808388944 -->\n<g id=\"node19\" class=\"node\">\n<title>2409808388944</title>\n<polygon fill=\"none\" stroke=\"black\" points=\"2769,-135.5 2769,-171.5 2957,-171.5 2957,-135.5 2769,-135.5\"/>\n<text text-anchor=\"middle\" x=\"2781\" y=\"-149.8\" font-family=\"Times New Roman,serif\" font-size=\"14.00\">o</text>\n<polyline fill=\"none\" stroke=\"black\" points=\"2793,-135.5 2793,-171.5 \"/>\n<text text-anchor=\"middle\" x=\"2833.5\" y=\"-149.8\" font-family=\"Times New Roman,serif\" font-size=\"14.00\">data 0.7071</text>\n<polyline fill=\"none\" stroke=\"black\" points=\"2874,-135.5 2874,-171.5 \"/>\n<text text-anchor=\"middle\" x=\"2915.5\" y=\"-149.8\" font-family=\"Times New Roman,serif\" font-size=\"14.00\">grad 1.0000</text>\n</g>\n<!-- 2409808388944*&#45;&gt;2409808388944 -->\n<g id=\"edge7\" class=\"edge\">\n<title>2409808388944*&#45;&gt;2409808388944</title>\n<path fill=\"none\" stroke=\"black\" d=\"M2733.29,-153.5C2740.78,-153.5 2749.42,-153.5 2758.6,-153.5\"/>\n<polygon fill=\"black\" stroke=\"black\" points=\"2758.76,-157 2768.76,-153.5 2758.76,-150 2758.76,-157\"/>\n</g>\n<!-- 2409808387936 -->\n<g id=\"node21\" class=\"node\">\n<title>2409808387936</title>\n<polygon fill=\"none\" stroke=\"black\" points=\"2459,-161.5 2459,-197.5 2643,-197.5 2643,-161.5 2459,-161.5\"/>\n<text text-anchor=\"middle\" x=\"2469\" y=\"-175.8\" font-family=\"Times New Roman,serif\" font-size=\"14.00\"> </text>\n<polyline fill=\"none\" stroke=\"black\" points=\"2479,-161.5 2479,-197.5 \"/>\n<text text-anchor=\"middle\" x=\"2519.5\" y=\"-175.8\" font-family=\"Times New Roman,serif\" font-size=\"14.00\">data 0.1464</text>\n<polyline fill=\"none\" stroke=\"black\" points=\"2560,-161.5 2560,-197.5 \"/>\n<text text-anchor=\"middle\" x=\"2601.5\" y=\"-175.8\" font-family=\"Times New Roman,serif\" font-size=\"14.00\">grad 4.8284</text>\n</g>\n<!-- 2409808387936&#45;&gt;2409808388944* -->\n<g id=\"edge13\" class=\"edge\">\n<title>2409808387936&#45;&gt;2409808388944*</title>\n<path fill=\"none\" stroke=\"black\" d=\"M2643.21,-164C2652.47,-162.43 2661.42,-160.91 2669.51,-159.53\"/>\n<polygon fill=\"black\" stroke=\"black\" points=\"2670.32,-162.94 2679.6,-157.82 2669.15,-156.04 2670.32,-162.94\"/>\n</g>\n<!-- 2409808387936**&#45;1&#45;&gt;2409808387936 -->\n<g id=\"edge8\" class=\"edge\">\n<title>2409808387936**&#45;1&#45;&gt;2409808387936</title>\n<path fill=\"none\" stroke=\"black\" d=\"M2358.3,-181.26C2380.98,-181.05 2415.25,-180.74 2448.57,-180.43\"/>\n<polygon fill=\"black\" stroke=\"black\" points=\"2448.9,-183.93 2458.87,-180.34 2448.84,-176.93 2448.9,-183.93\"/>\n</g>\n<!-- 2409808391104 -->\n<g id=\"node23\" class=\"node\">\n<title>2409808391104</title>\n<polygon fill=\"none\" stroke=\"black\" points=\"2.5,-110.5 2.5,-146.5 199.5,-146.5 199.5,-110.5 2.5,-110.5\"/>\n<text text-anchor=\"middle\" x=\"19\" y=\"-124.8\" font-family=\"Times New Roman,serif\" font-size=\"14.00\">w2</text>\n<polyline fill=\"none\" stroke=\"black\" points=\"35.5,-110.5 35.5,-146.5 \"/>\n<text text-anchor=\"middle\" x=\"76\" y=\"-124.8\" font-family=\"Times New Roman,serif\" font-size=\"14.00\">data 1.0000</text>\n<polyline fill=\"none\" stroke=\"black\" points=\"116.5,-110.5 116.5,-146.5 \"/>\n<text text-anchor=\"middle\" x=\"158\" y=\"-124.8\" font-family=\"Times New Roman,serif\" font-size=\"14.00\">grad 0.0000</text>\n</g>\n<!-- 2409808391104&#45;&gt;2409808389856* -->\n<g id=\"edge14\" class=\"edge\">\n<title>2409808391104&#45;&gt;2409808389856*</title>\n<path fill=\"none\" stroke=\"black\" d=\"M199.51,-128.5C209.51,-128.5 219.17,-128.5 227.82,-128.5\"/>\n<polygon fill=\"black\" stroke=\"black\" points=\"227.84,-132 237.84,-128.5 227.84,-125 227.84,-132\"/>\n</g>\n<!-- 2409808391632 -->\n<g id=\"node24\" class=\"node\">\n<title>2409808391632</title>\n<polygon fill=\"none\" stroke=\"black\" points=\"1077,-109.5 1077,-145.5 1264,-145.5 1264,-109.5 1077,-109.5\"/>\n<text text-anchor=\"middle\" x=\"1088.5\" y=\"-123.8\" font-family=\"Times New Roman,serif\" font-size=\"14.00\">n</text>\n<polyline fill=\"none\" stroke=\"black\" points=\"1100,-109.5 1100,-145.5 \"/>\n<text text-anchor=\"middle\" x=\"1140.5\" y=\"-123.8\" font-family=\"Times New Roman,serif\" font-size=\"14.00\">data 0.8814</text>\n<polyline fill=\"none\" stroke=\"black\" points=\"1181,-109.5 1181,-145.5 \"/>\n<text text-anchor=\"middle\" x=\"1222.5\" y=\"-123.8\" font-family=\"Times New Roman,serif\" font-size=\"14.00\">grad 0.5000</text>\n</g>\n<!-- 2409808391632&#45;&gt;2409808392256* -->\n<g id=\"edge18\" class=\"edge\">\n<title>2409808391632&#45;&gt;2409808392256*</title>\n<path fill=\"none\" stroke=\"black\" d=\"M1264.05,-143.67C1273.34,-145.3 1282.33,-146.87 1290.44,-148.29\"/>\n<polygon fill=\"black\" stroke=\"black\" points=\"1290.1,-151.78 1300.55,-150.05 1291.3,-144.88 1290.1,-151.78\"/>\n</g>\n<!-- 2409808391632+&#45;&gt;2409808391632 -->\n<g id=\"edge9\" class=\"edge\">\n<title>2409808391632+&#45;&gt;2409808391632</title>\n<path fill=\"none\" stroke=\"black\" d=\"M1041.21,-127.5C1048.73,-127.5 1057.43,-127.5 1066.67,-127.5\"/>\n<polygon fill=\"black\" stroke=\"black\" points=\"1066.89,-131 1076.89,-127.5 1066.89,-124 1066.89,-131\"/>\n</g>\n<!-- 2409810548704 -->\n<g id=\"node26\" class=\"node\">\n<title>2409810548704</title>\n<polygon fill=\"none\" stroke=\"black\" points=\"2,-0.5 2,-36.5 200,-36.5 200,-0.5 2,-0.5\"/>\n<text text-anchor=\"middle\" x=\"17\" y=\"-14.8\" font-family=\"Times New Roman,serif\" font-size=\"14.00\">x1</text>\n<polyline fill=\"none\" stroke=\"black\" points=\"32,-0.5 32,-36.5 \"/>\n<text text-anchor=\"middle\" x=\"72.5\" y=\"-14.8\" font-family=\"Times New Roman,serif\" font-size=\"14.00\">data 2.0000</text>\n<polyline fill=\"none\" stroke=\"black\" points=\"113,-0.5 113,-36.5 \"/>\n<text text-anchor=\"middle\" x=\"156.5\" y=\"-14.8\" font-family=\"Times New Roman,serif\" font-size=\"14.00\">grad &#45;1.5000</text>\n</g>\n<!-- 2409810548704&#45;&gt;2409808387888* -->\n<g id=\"edge12\" class=\"edge\">\n<title>2409810548704&#45;&gt;2409808387888*</title>\n<path fill=\"none\" stroke=\"black\" d=\"M174.26,-36.52C183.66,-39.3 193.11,-42.32 202,-45.5 212.53,-49.27 223.76,-54.09 233.72,-58.66\"/>\n<polygon fill=\"black\" stroke=\"black\" points=\"232.29,-61.85 242.83,-62.92 235.26,-55.51 232.29,-61.85\"/>\n</g>\n<!-- 2409808383472 -->\n<g id=\"node27\" class=\"node\">\n<title>2409808383472</title>\n<polygon fill=\"none\" stroke=\"black\" points=\"676,-82.5 676,-118.5 951,-118.5 951,-82.5 676,-82.5\"/>\n<text text-anchor=\"middle\" x=\"729\" y=\"-96.8\" font-family=\"Times New Roman,serif\" font-size=\"14.00\">x1*w1 + x2*w2</text>\n<polyline fill=\"none\" stroke=\"black\" points=\"782,-82.5 782,-118.5 \"/>\n<text text-anchor=\"middle\" x=\"825\" y=\"-96.8\" font-family=\"Times New Roman,serif\" font-size=\"14.00\">data &#45;6.0000</text>\n<polyline fill=\"none\" stroke=\"black\" points=\"868,-82.5 868,-118.5 \"/>\n<text text-anchor=\"middle\" x=\"909.5\" y=\"-96.8\" font-family=\"Times New Roman,serif\" font-size=\"14.00\">grad 0.5000</text>\n</g>\n<!-- 2409808383472&#45;&gt;2409808391632+ -->\n<g id=\"edge25\" class=\"edge\">\n<title>2409808383472&#45;&gt;2409808391632+</title>\n<path fill=\"none\" stroke=\"black\" d=\"M946.9,-118.51C957.84,-120 968.17,-121.4 977.27,-122.64\"/>\n<polygon fill=\"black\" stroke=\"black\" points=\"976.98,-126.13 987.36,-124.01 977.92,-119.2 976.98,-126.13\"/>\n</g>\n<!-- 2409808383472+&#45;&gt;2409808383472 -->\n<g id=\"edge10\" class=\"edge\">\n<title>2409808383472+&#45;&gt;2409808383472</title>\n<path fill=\"none\" stroke=\"black\" d=\"M640.36,-100.5C647.8,-100.5 656.45,-100.5 665.84,-100.5\"/>\n<polygon fill=\"black\" stroke=\"black\" points=\"665.88,-104 675.88,-100.5 665.88,-97 665.88,-104\"/>\n</g>\n</g>\n</svg>\n",
      "text/plain": [
       "<graphviz.graphs.Digraph at 0x23113c5e260>"
      ]
     },
     "execution_count": 35,
     "metadata": {},
     "output_type": "execute_result"
    }
   ],
   "source": [
    "# Manual backprop for a neuron\n",
    "#inputs\n",
    "x1 = Value(2.0, label=\"x1\")\n",
    "x2 = Value(0.0, label=\"x2\")\n",
    "#weights\n",
    "w1 = Value(-3.0, label= \"w1\")\n",
    "w2 = Value(1.0, label= \"w2\")\n",
    "#bias\n",
    "b = Value(6.8813735870195432, label =\"b\")\n",
    "# x1*w1 + x2*w2 + b\n",
    "x1w1 = x1*w1; x1w1.label = 'x1*w1'\n",
    "x2w2 = x2*w2; x2w2.label = 'x2*w2'\n",
    "x1w1x2w2 = x1w1 + x2w2; x1w1x2w2.label = 'x1*w1 + x2*w2'\n",
    "n= x1w1x2w2 +b; n.label = 'n'\n",
    "\n",
    "#------\n",
    "#output\n",
    "e = (2*n).exp()\n",
    "o = (e-1)/(e+1)\n",
    "o.label = 'o'\n",
    "o.backward()\n",
    "draw_dot(o)"
   ]
  },
  {
   "cell_type": "code",
   "execution_count": 4,
   "metadata": {},
   "outputs": [],
   "source": [
    "import random\n",
    "\n",
    "\n",
    "class Neuron:\n",
    "    def __init__(self, nin):\n",
    "        self.w =  [Value(random.uniform(-1, 1)) for _ in range(nin)]\n",
    "        self.b = Value(random.uniform(-1,1))\n",
    "        \n",
    "    def __call__(self, x):\n",
    "        #w * x + b\n",
    "        act = sum((wi*xi for wi, xi in zip(self.w, x)), self.b)\n",
    "        out = act.tanh()\n",
    "        return out\n",
    "\n",
    "    def parameters(self):\n",
    "        return self.w + [self.b]\n",
    "\n",
    "class Layer:\n",
    "    def __init__(self, nin, nout):\n",
    "        self.neurons = [Neuron(nin) for _ in range(nout)]\n",
    "    \n",
    "    def __call__(self, x):\n",
    "        outs = [n(x) for n in self.neurons]\n",
    "        return outs[0] if len(outs)==1 else outs\n",
    "    \n",
    "    def parameters(self):\n",
    "        return [p for neuron in self.neurons for p in neuron.parameters()]\n",
    "        \n",
    "    \n",
    "class MLP:\n",
    "    def __init__(self, nin, nouts):\n",
    "        sz = [nin] + nouts\n",
    "        self.layers = [Layer(sz[i], sz[i+1]) for i in range(len(nouts))]\n",
    "        \n",
    "    def __call__(self, x):\n",
    "        for layer in self.layers:\n",
    "            x = layer(x)\n",
    "        return x\n",
    "    \n",
    "    def parameters(self):\n",
    "        return [p for layer in self.layers for p in layer.parameters()]\n",
    "    \n",
    "       \n",
    "        \n",
    "        \n",
    "        \n",
    "        "
   ]
  },
  {
   "cell_type": "code",
   "execution_count": 58,
   "metadata": {},
   "outputs": [
    {
     "data": {
      "text/plain": [
       "Value(data=-0.2954636117401176)"
      ]
     },
     "execution_count": 58,
     "metadata": {},
     "output_type": "execute_result"
    }
   ],
   "source": [
    "x = [2.0, 3.0, -1.0]\n",
    "n = MLP(3, [4, 4, 1])\n",
    "n(x)"
   ]
  },
  {
   "cell_type": "code",
   "execution_count": 59,
   "metadata": {},
   "outputs": [],
   "source": [
    "xs = [\n",
    "    [2.0, 3.0, -1.0],\n",
    "    [3.0, -1.0, 0.5],\n",
    "    [0.5, 1.0, 1.0],\n",
    "    [1.0, 1.0, -1.0]\n",
    "]\n",
    "\n",
    "ys = [1.0, -1.0, -1.0, 1.0] #desired targets\n",
    "\n",
    "# ypred = [n(x) for x in xs]\n",
    "\n",
    "# ypred\n"
   ]
  },
  {
   "cell_type": "code",
   "execution_count": 60,
   "metadata": {},
   "outputs": [
    {
     "name": "stdout",
     "output_type": "stream",
     "text": [
      "0 4.25918893688305\n",
      "1 2.964498981470272\n",
      "2 3.9922843025113393\n",
      "3 1.0105508761778659\n",
      "4 0.2227399353783249\n",
      "5 0.1022745940555741\n",
      "6 0.07023285839928976\n",
      "7 0.0542563742804075\n",
      "8 0.04454185483190274\n",
      "9 0.03796635721417025\n",
      "10 0.03319953169774667\n",
      "11 0.029573695696407512\n",
      "12 0.02671550762118184\n",
      "13 0.024399392101357973\n",
      "14 0.022480822738751356\n",
      "15 0.02086282966216251\n",
      "16 0.019477875341472356\n",
      "17 0.01827744416312188\n",
      "18 0.017225764630637776\n",
      "19 0.01629586707085617\n"
     ]
    }
   ],
   "source": [
    "for k in range(20):\n",
    "    #forward prop\n",
    "    ypred = [n(x) for x in xs]\n",
    "    loss = sum((ygt - yout)**2 for ygt, yout in zip(ys, ypred))\n",
    "\n",
    "    #backprop\n",
    "    for p in n.parameters():\n",
    "        p.grad = 0.0\n",
    "    loss.backward()\n",
    "    \n",
    "    #update\n",
    "    for p in n.parameters():\n",
    "        p.data += -0.07 * p.grad\n",
    "    \n",
    "    print(k, loss.data)"
   ]
  },
  {
   "cell_type": "code",
   "execution_count": 61,
   "metadata": {},
   "outputs": [
    {
     "data": {
      "text/plain": [
       "[Value(data=0.9087731540215569),\n",
       " Value(data=-0.975306290241572),\n",
       " Value(data=-0.9508343870039193),\n",
       " Value(data=0.9296686923143915)]"
      ]
     },
     "execution_count": 61,
     "metadata": {},
     "output_type": "execute_result"
    }
   ],
   "source": [
    "ypred"
   ]
  },
  {
   "cell_type": "code",
   "execution_count": null,
   "metadata": {},
   "outputs": [],
   "source": []
  }
 ],
 "metadata": {
  "kernelspec": {
   "display_name": "Python 3",
   "language": "python",
   "name": "python3"
  },
  "language_info": {
   "codemirror_mode": {
    "name": "ipython",
    "version": 3
   },
   "file_extension": ".py",
   "mimetype": "text/x-python",
   "name": "python",
   "nbconvert_exporter": "python",
   "pygments_lexer": "ipython3",
   "version": "3.10.10"
  },
  "orig_nbformat": 4,
  "vscode": {
   "interpreter": {
    "hash": "a42ccb73e7d9bfdf27e036f1d2b8b681e55fc0743cc5586bc2474d4a60f4b886"
   }
  }
 },
 "nbformat": 4,
 "nbformat_minor": 2
}
